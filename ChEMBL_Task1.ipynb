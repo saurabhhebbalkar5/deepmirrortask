{
 "cells": [
  {
   "cell_type": "markdown",
   "id": "74584481",
   "metadata": {},
   "source": [
    "# Deep Mirror Task 1"
   ]
  },
  {
   "cell_type": "markdown",
   "id": "d25069c7",
   "metadata": {},
   "source": [
    "Saurabh Hebbalkar\n",
    "\n",
    "saurabhhebbalkar@gmail.com"
   ]
  },
  {
   "cell_type": "markdown",
   "id": "a45e38d9",
   "metadata": {},
   "source": [
    "Requirements:\n",
    "- Spin up a Postgres instance of ChEMBL (bonus points for cloud hosted).\n",
    "- Add all the ADME data from TDC to the database.\n",
    "- Provide instructions for the machine learning team to connect and query the database."
   ]
  },
  {
   "cell_type": "markdown",
   "id": "8a3ec2b5",
   "metadata": {},
   "source": [
    " ### Required Libraries"
   ]
  },
  {
   "cell_type": "code",
   "execution_count": 1,
   "id": "f857d571",
   "metadata": {},
   "outputs": [],
   "source": [
    "# Install the requiired libraries\n",
    "!pip install -r requirements.txt"
   ]
  },
  {
   "cell_type": "code",
   "execution_count": 2,
   "id": "532424da",
   "metadata": {},
   "outputs": [],
   "source": [
    "# Import the required libraries\n",
    "import psycopg2\n",
    "import pandas.io.sql as psql\n",
    "import logging\n",
    "from config import config\n",
    "from tdc import utils\n",
    "from tdc.single_pred import ADME\n",
    "from sqlalchemy import create_engine"
   ]
  },
  {
   "cell_type": "markdown",
   "id": "00763489",
   "metadata": {},
   "source": [
    "### Function Definition"
   ]
  },
  {
   "cell_type": "code",
   "execution_count": 3,
   "id": "efa4e563",
   "metadata": {},
   "outputs": [],
   "source": [
    "def get_conn_obj():\n",
    "    \"\"\"\n",
    "    Function to get the database connection object.\n",
    "    Gets the database config parameters/credentials and returns a connection object. \n",
    "    \"\"\"\n",
    "    conn = None\n",
    "    \n",
    "    try:\n",
    "        # read connection parameters\n",
    "        params = config()\n",
    "  \n",
    "        # connect to the PostgreSQL server\n",
    "        conn = psycopg2.connect(**params)\n",
    "        \n",
    "    except (Exception, psycopg2.DatabaseError) as error:\n",
    "        print(error)\n",
    "        \n",
    "    return conn \n",
    "\n",
    "\n",
    "def fetch_data_as_df(query):\n",
    "    \"\"\"\n",
    "    Executues the SQL query passed and returns the data from the ChEMBL database as a (pandas) DataFrame object.\n",
    "    \"\"\"\n",
    "    \n",
    "    # Get the connection object\n",
    "    conn = get_conn_obj()\n",
    "    \n",
    "    # Execute the query, fetch the data and store in a dataframe.\n",
    "    dataframe = psql.read_sql(query, conn)\n",
    "    \n",
    "    # Close the connection\n",
    "    conn.close()\n",
    "    \n",
    "    return dataframe\n",
    "\n",
    "\n",
    "def add_tdc_adme_tables_to_chembl_db():\n",
    "    \"\"\"\n",
    "    Adds all the ADME data from Theraputic Data Commons(TDC) into the ChEMBL DB.\n",
    "    \n",
    "    All the 21 ADME datasets from https://tdcommons.ai/single_pred_tasks/adme/ are added to the ChEMBL db in cloud.\n",
    "    \n",
    "    In future if these 21 ADME datasets are updated on the TDC, or new tables are added; \n",
    "    please execute this function again and it will override the existing data in the ChEMBL DB in our cloud.\n",
    "    \"\"\"\n",
    "    \n",
    "    # Using TDC utils to fetch names of all the ADME Datasets from TDC\n",
    "    adme_dataset_names = utils.retrieve_dataset_names('ADME')\n",
    "    \n",
    "    # Fetching the DB config params/credentials to access the DB\n",
    "    params = config()\n",
    "    \n",
    "    # Initiating engine for DB API using params\n",
    "    engine = create_engine(f\"postgresql://{params['user']}:{params['password']}@{params['host']}:{params['port']}/{params['database']}\")\n",
    "    \n",
    "    # Retrieving all the 21 Datasets from TDC \n",
    "    for dataname in adme_dataset_names:\n",
    "        \n",
    "        # Get the data and store it in a DF\n",
    "        data = ADME(name = dataname)\n",
    "        df = data.get_data()\n",
    "        \n",
    "        # Upload the Dataframe as a table in te ChEMBL DB hosted in cloud, replace if the table is already existing\n",
    "        df.to_sql(dataname, engine, if_exists='replace')\n",
    "        \n",
    "        print(f\"{dataname} table has been added to the ChEMBL DB\")\n",
    "        logging.info(f\"{dataname} table has been added to the ChEMBL DB\")\n",
    "        "
   ]
  },
  {
   "cell_type": "markdown",
   "id": "99f7bf2a",
   "metadata": {},
   "source": [
    "### Function Execution"
   ]
  },
  {
   "cell_type": "markdown",
   "id": "9f4072f3",
   "metadata": {},
   "source": [
    "#### Add all the 21 ADME Datasets in to the ChEMBL DB\n",
    "***Warning:*** \n",
    "- If the tables from TDC already exists in the DB, executing this function will override them. \n",
    "- Currently all the 21 tables from https://tdcommons.ai/single_pred_tasks/adme/ are available in the DB.\n",
    "- Please execute this function only when you want to update the DB with TDC data.\n",
    "- Executing this function could take upto 15mins."
   ]
  },
  {
   "cell_type": "code",
   "execution_count": 4,
   "id": "73597e1f",
   "metadata": {
    "scrolled": true
   },
   "outputs": [
    {
     "name": "stderr",
     "output_type": "stream",
     "text": [
      "Found local copy...\n",
      "Loading...\n",
      "Done!\n",
      "Found local copy...\n",
      "Loading...\n",
      "Done!\n"
     ]
    },
    {
     "name": "stdout",
     "output_type": "stream",
     "text": [
      "lipophilicity_astrazeneca table has been added to the ChEMBL DB\n"
     ]
    },
    {
     "name": "stderr",
     "output_type": "stream",
     "text": [
      "Found local copy...\n",
      "Loading...\n",
      "Done!\n"
     ]
    },
    {
     "name": "stdout",
     "output_type": "stream",
     "text": [
      "solubility_aqsoldb table has been added to the ChEMBL DB\n"
     ]
    },
    {
     "name": "stderr",
     "output_type": "stream",
     "text": [
      "Found local copy...\n",
      "Loading...\n",
      "Done!\n"
     ]
    },
    {
     "name": "stdout",
     "output_type": "stream",
     "text": [
      "hydrationfreeenergy_freesolv table has been added to the ChEMBL DB\n"
     ]
    },
    {
     "name": "stderr",
     "output_type": "stream",
     "text": [
      "Found local copy...\n",
      "Loading...\n",
      "Done!\n"
     ]
    },
    {
     "name": "stdout",
     "output_type": "stream",
     "text": [
      "caco2_wang table has been added to the ChEMBL DB\n"
     ]
    },
    {
     "name": "stderr",
     "output_type": "stream",
     "text": [
      "Found local copy...\n",
      "Loading...\n",
      "Done!\n"
     ]
    },
    {
     "name": "stdout",
     "output_type": "stream",
     "text": [
      "pampa_ncats table has been added to the ChEMBL DB\n"
     ]
    },
    {
     "name": "stderr",
     "output_type": "stream",
     "text": [
      "Downloading...\n"
     ]
    },
    {
     "name": "stdout",
     "output_type": "stream",
     "text": [
      "approved_pampa_ncats table has been added to the ChEMBL DB\n"
     ]
    },
    {
     "name": "stderr",
     "output_type": "stream",
     "text": [
      "100%|████████████████████████████████████████████████████████████████████████████| 40.1k/40.1k [00:00<00:00, 4.07MiB/s]\n",
      "Loading...\n",
      "Done!\n",
      "Downloading...\n"
     ]
    },
    {
     "name": "stdout",
     "output_type": "stream",
     "text": [
      "hia_hou table has been added to the ChEMBL DB\n"
     ]
    },
    {
     "name": "stderr",
     "output_type": "stream",
     "text": [
      "100%|██████████████████████████████████████████████████████████████████████████████| 126k/126k [00:01<00:00, 64.4kiB/s]\n",
      "Loading...\n",
      "Done!\n",
      "Downloading...\n"
     ]
    },
    {
     "name": "stdout",
     "output_type": "stream",
     "text": [
      "pgp_broccatelli table has been added to the ChEMBL DB\n"
     ]
    },
    {
     "name": "stderr",
     "output_type": "stream",
     "text": [
      "100%|████████████████████████████████████████████████████████████████████████████| 43.7k/43.7k [00:01<00:00, 29.4kiB/s]\n",
      "Loading...\n",
      "Done!\n",
      "Downloading...\n"
     ]
    },
    {
     "name": "stdout",
     "output_type": "stream",
     "text": [
      "bioavailability_ma table has been added to the ChEMBL DB\n"
     ]
    },
    {
     "name": "stderr",
     "output_type": "stream",
     "text": [
      "100%|████████████████████████████████████████████████████████████████████████████| 89.9k/89.9k [00:01<00:00, 83.0kiB/s]\n",
      "Loading...\n",
      "Done!\n",
      "Downloading...\n"
     ]
    },
    {
     "name": "stdout",
     "output_type": "stream",
     "text": [
      "vdss_lombardo table has been added to the ChEMBL DB\n"
     ]
    },
    {
     "name": "stderr",
     "output_type": "stream",
     "text": [
      "100%|██████████████████████████████████████████████████████████████████████████████| 771k/771k [00:31<00:00, 24.1kiB/s]\n",
      "Loading...\n",
      "Done!\n",
      "Downloading...\n"
     ]
    },
    {
     "name": "stdout",
     "output_type": "stream",
     "text": [
      "cyp2c19_veith table has been added to the ChEMBL DB\n"
     ]
    },
    {
     "name": "stderr",
     "output_type": "stream",
     "text": [
      "100%|██████████████████████████████████████████████████████████████████████████████| 800k/800k [02:55<00:00, 4.55kiB/s]\n",
      "Loading...\n",
      "Done!\n",
      "Downloading...\n"
     ]
    },
    {
     "name": "stdout",
     "output_type": "stream",
     "text": [
      "cyp2d6_veith table has been added to the ChEMBL DB\n"
     ]
    },
    {
     "name": "stderr",
     "output_type": "stream",
     "text": [
      "100%|██████████████████████████████████████████████████████████████████████████████| 746k/746k [00:19<00:00, 38.0kiB/s]\n",
      "Loading...\n",
      "Done!\n",
      "Downloading...\n"
     ]
    },
    {
     "name": "stdout",
     "output_type": "stream",
     "text": [
      "cyp3a4_veith table has been added to the ChEMBL DB\n"
     ]
    },
    {
     "name": "stderr",
     "output_type": "stream",
     "text": [
      "100%|██████████████████████████████████████████████████████████████████████████████| 760k/760k [00:22<00:00, 34.5kiB/s]\n",
      "Loading...\n",
      "Done!\n",
      "Downloading...\n"
     ]
    },
    {
     "name": "stdout",
     "output_type": "stream",
     "text": [
      "cyp1a2_veith table has been added to the ChEMBL DB\n"
     ]
    },
    {
     "name": "stderr",
     "output_type": "stream",
     "text": [
      "100%|███████████████████████████████████████████████████████████████████████████████| 740k/740k [00:06<00:00, 115kiB/s]\n",
      "Loading...\n",
      "Done!\n",
      "Downloading...\n"
     ]
    },
    {
     "name": "stdout",
     "output_type": "stream",
     "text": [
      "cyp2c9_veith table has been added to the ChEMBL DB\n"
     ]
    },
    {
     "name": "stderr",
     "output_type": "stream",
     "text": [
      "100%|█████████████████████████████████████████████████████████████████████████████| 45.6k/45.6k [00:00<00:00, 238kiB/s]\n",
      "Loading...\n",
      "Done!\n",
      "Downloading...\n"
     ]
    },
    {
     "name": "stdout",
     "output_type": "stream",
     "text": [
      "cyp2c9_substrate_carbonmangels table has been added to the ChEMBL DB\n"
     ]
    },
    {
     "name": "stderr",
     "output_type": "stream",
     "text": [
      "100%|█████████████████████████████████████████████████████████████████████████████| 45.4k/45.4k [00:00<00:00, 148kiB/s]\n",
      "Loading...\n",
      "Done!\n",
      "Downloading...\n"
     ]
    },
    {
     "name": "stdout",
     "output_type": "stream",
     "text": [
      "cyp2d6_substrate_carbonmangels table has been added to the ChEMBL DB\n"
     ]
    },
    {
     "name": "stderr",
     "output_type": "stream",
     "text": [
      "100%|████████████████████████████████████████████████████████████████████████████| 46.0k/46.0k [00:01<00:00, 44.9kiB/s]\n",
      "Loading...\n",
      "Done!\n",
      "Downloading...\n"
     ]
    },
    {
     "name": "stdout",
     "output_type": "stream",
     "text": [
      "cyp3a4_substrate_carbonmangels table has been added to the ChEMBL DB\n"
     ]
    },
    {
     "name": "stderr",
     "output_type": "stream",
     "text": [
      "100%|██████████████████████████████████████████████████████████████████████████████| 138k/138k [00:02<00:00, 55.3kiB/s]\n",
      "Loading...\n",
      "Done!\n",
      "Downloading...\n"
     ]
    },
    {
     "name": "stdout",
     "output_type": "stream",
     "text": [
      "bbb_martins table has been added to the ChEMBL DB\n"
     ]
    },
    {
     "name": "stderr",
     "output_type": "stream",
     "text": [
      "100%|██████████████████████████████████████████████████████████████████████████████| 265k/265k [00:02<00:00, 92.6kiB/s]\n",
      "Loading...\n",
      "Done!\n",
      "Downloading...\n"
     ]
    },
    {
     "name": "stdout",
     "output_type": "stream",
     "text": [
      "ppbr_az table has been added to the ChEMBL DB\n"
     ]
    },
    {
     "name": "stderr",
     "output_type": "stream",
     "text": [
      "100%|████████████████████████████████████████████████████████████████████████████| 53.6k/53.6k [00:00<00:00, 65.2kiB/s]\n",
      "Loading...\n",
      "Done!\n",
      "Downloading...\n"
     ]
    },
    {
     "name": "stdout",
     "output_type": "stream",
     "text": [
      "half_life_obach table has been added to the ChEMBL DB\n"
     ]
    },
    {
     "name": "stderr",
     "output_type": "stream",
     "text": [
      "100%|█████████████████████████████████████████████████████████████████████████████| 91.6k/91.6k [00:00<00:00, 111kiB/s]\n",
      "Loading...\n",
      "Done!\n",
      "Downloading...\n"
     ]
    },
    {
     "name": "stdout",
     "output_type": "stream",
     "text": [
      "clearance_hepatocyte_az table has been added to the ChEMBL DB\n"
     ]
    },
    {
     "name": "stderr",
     "output_type": "stream",
     "text": [
      "100%|████████████████████████████████████████████████████████████████████████████| 81.7k/81.7k [00:00<00:00, 88.1kiB/s]\n",
      "Loading...\n",
      "Done!\n"
     ]
    },
    {
     "name": "stdout",
     "output_type": "stream",
     "text": [
      "clearance_microsome_az table has been added to the ChEMBL DB\n"
     ]
    }
   ],
   "source": [
    "# Adding all the TDC ADME tables to ChEMBL DB\n",
    "add_tdc_adme_tables_to_chembl_db()"
   ]
  },
  {
   "cell_type": "markdown",
   "id": "58bba4c6",
   "metadata": {},
   "source": [
    "### Executing the Query to access the DB"
   ]
  },
  {
   "cell_type": "markdown",
   "id": "4966ddf4",
   "metadata": {},
   "source": [
    "Accessing the TDC **lipophilicity_astrazeneca** table"
   ]
  },
  {
   "cell_type": "code",
   "execution_count": 7,
   "id": "e0884bb6",
   "metadata": {},
   "outputs": [],
   "source": [
    "query = 'SELECT * FROM lipophilicity_astrazeneca;'\n",
    "lipophilicity_astrazeneca = fetch_data_as_df(query)"
   ]
  },
  {
   "cell_type": "code",
   "execution_count": 8,
   "id": "3ab943e4",
   "metadata": {},
   "outputs": [
    {
     "data": {
      "text/html": [
       "<div>\n",
       "<style scoped>\n",
       "    .dataframe tbody tr th:only-of-type {\n",
       "        vertical-align: middle;\n",
       "    }\n",
       "\n",
       "    .dataframe tbody tr th {\n",
       "        vertical-align: top;\n",
       "    }\n",
       "\n",
       "    .dataframe thead th {\n",
       "        text-align: right;\n",
       "    }\n",
       "</style>\n",
       "<table border=\"1\" class=\"dataframe\">\n",
       "  <thead>\n",
       "    <tr style=\"text-align: right;\">\n",
       "      <th></th>\n",
       "      <th>index</th>\n",
       "      <th>Drug_ID</th>\n",
       "      <th>Drug</th>\n",
       "      <th>Y</th>\n",
       "    </tr>\n",
       "  </thead>\n",
       "  <tbody>\n",
       "    <tr>\n",
       "      <th>0</th>\n",
       "      <td>0</td>\n",
       "      <td>CHEMBL596271</td>\n",
       "      <td>Cn1c(CN2CCN(c3ccc(Cl)cc3)CC2)nc2ccccc21</td>\n",
       "      <td>3.54</td>\n",
       "    </tr>\n",
       "    <tr>\n",
       "      <th>1</th>\n",
       "      <td>1</td>\n",
       "      <td>CHEMBL1951080</td>\n",
       "      <td>COc1cc(OC)c(S(=O)(=O)N2c3ccccc3CCC2C)cc1NC(=O)...</td>\n",
       "      <td>-1.18</td>\n",
       "    </tr>\n",
       "    <tr>\n",
       "      <th>2</th>\n",
       "      <td>2</td>\n",
       "      <td>CHEMBL1771</td>\n",
       "      <td>COC(=O)[C@H](c1ccccc1Cl)N1CCc2sccc2C1</td>\n",
       "      <td>3.69</td>\n",
       "    </tr>\n",
       "    <tr>\n",
       "      <th>3</th>\n",
       "      <td>3</td>\n",
       "      <td>CHEMBL234951</td>\n",
       "      <td>O=C(NC1Cc2ccccc2N(C[C@@H](O)CO)C1=O)c1cc2cc(Cl...</td>\n",
       "      <td>3.37</td>\n",
       "    </tr>\n",
       "    <tr>\n",
       "      <th>4</th>\n",
       "      <td>4</td>\n",
       "      <td>CHEMBL565079</td>\n",
       "      <td>Cc1cccc(C[C@H](NC(=O)c2cc(C(C)(C)C)nn2C)C(=O)N...</td>\n",
       "      <td>3.10</td>\n",
       "    </tr>\n",
       "    <tr>\n",
       "      <th>...</th>\n",
       "      <td>...</td>\n",
       "      <td>...</td>\n",
       "      <td>...</td>\n",
       "      <td>...</td>\n",
       "    </tr>\n",
       "    <tr>\n",
       "      <th>4195</th>\n",
       "      <td>4195</td>\n",
       "      <td>CHEMBL496929</td>\n",
       "      <td>O=C(Nc1ccc(CCO)cc1)c1cc2cc(Cl)ccc2[nH]1</td>\n",
       "      <td>3.85</td>\n",
       "    </tr>\n",
       "    <tr>\n",
       "      <th>4196</th>\n",
       "      <td>4196</td>\n",
       "      <td>CHEMBL199147</td>\n",
       "      <td>CCN(C(=O)Cc1ccc(S(C)(=O)=O)cc1)C1CCN(CCC(c2ccc...</td>\n",
       "      <td>3.21</td>\n",
       "    </tr>\n",
       "    <tr>\n",
       "      <th>4197</th>\n",
       "      <td>4197</td>\n",
       "      <td>CHEMBL15932</td>\n",
       "      <td>COc1cccc2[nH]ncc12</td>\n",
       "      <td>2.10</td>\n",
       "    </tr>\n",
       "    <tr>\n",
       "      <th>4198</th>\n",
       "      <td>4198</td>\n",
       "      <td>CHEMBL558748</td>\n",
       "      <td>O=C(NCC1CCCCC1)c1c(Cl)ccc2ncccc12</td>\n",
       "      <td>2.65</td>\n",
       "    </tr>\n",
       "    <tr>\n",
       "      <th>4199</th>\n",
       "      <td>4199</td>\n",
       "      <td>CHEMBL237889</td>\n",
       "      <td>Cn1c(N)nc(CCc2ccc3ccccc3c2)cc1=O</td>\n",
       "      <td>2.70</td>\n",
       "    </tr>\n",
       "  </tbody>\n",
       "</table>\n",
       "<p>4200 rows × 4 columns</p>\n",
       "</div>"
      ],
      "text/plain": [
       "      index        Drug_ID                                               Drug  \\\n",
       "0         0   CHEMBL596271            Cn1c(CN2CCN(c3ccc(Cl)cc3)CC2)nc2ccccc21   \n",
       "1         1  CHEMBL1951080  COc1cc(OC)c(S(=O)(=O)N2c3ccccc3CCC2C)cc1NC(=O)...   \n",
       "2         2     CHEMBL1771              COC(=O)[C@H](c1ccccc1Cl)N1CCc2sccc2C1   \n",
       "3         3   CHEMBL234951  O=C(NC1Cc2ccccc2N(C[C@@H](O)CO)C1=O)c1cc2cc(Cl...   \n",
       "4         4   CHEMBL565079  Cc1cccc(C[C@H](NC(=O)c2cc(C(C)(C)C)nn2C)C(=O)N...   \n",
       "...     ...            ...                                                ...   \n",
       "4195   4195   CHEMBL496929            O=C(Nc1ccc(CCO)cc1)c1cc2cc(Cl)ccc2[nH]1   \n",
       "4196   4196   CHEMBL199147  CCN(C(=O)Cc1ccc(S(C)(=O)=O)cc1)C1CCN(CCC(c2ccc...   \n",
       "4197   4197    CHEMBL15932                                 COc1cccc2[nH]ncc12   \n",
       "4198   4198   CHEMBL558748                  O=C(NCC1CCCCC1)c1c(Cl)ccc2ncccc12   \n",
       "4199   4199   CHEMBL237889                   Cn1c(N)nc(CCc2ccc3ccccc3c2)cc1=O   \n",
       "\n",
       "         Y  \n",
       "0     3.54  \n",
       "1    -1.18  \n",
       "2     3.69  \n",
       "3     3.37  \n",
       "4     3.10  \n",
       "...    ...  \n",
       "4195  3.85  \n",
       "4196  3.21  \n",
       "4197  2.10  \n",
       "4198  2.65  \n",
       "4199  2.70  \n",
       "\n",
       "[4200 rows x 4 columns]"
      ]
     },
     "execution_count": 8,
     "metadata": {},
     "output_type": "execute_result"
    }
   ],
   "source": [
    "lipophilicity_astrazeneca"
   ]
  },
  {
   "cell_type": "markdown",
   "id": "7ffcac24",
   "metadata": {},
   "source": [
    "Accessing the ChEMBL **public.assays** table"
   ]
  },
  {
   "cell_type": "code",
   "execution_count": 9,
   "id": "fb288d04",
   "metadata": {},
   "outputs": [],
   "source": [
    "query_1 = 'SELECT * FROM public.assays LIMIT 10;'\n",
    "assays = fetch_data_as_df(query_1)"
   ]
  },
  {
   "cell_type": "code",
   "execution_count": 10,
   "id": "74130903",
   "metadata": {},
   "outputs": [
    {
     "data": {
      "text/html": [
       "<div>\n",
       "<style scoped>\n",
       "    .dataframe tbody tr th:only-of-type {\n",
       "        vertical-align: middle;\n",
       "    }\n",
       "\n",
       "    .dataframe tbody tr th {\n",
       "        vertical-align: top;\n",
       "    }\n",
       "\n",
       "    .dataframe thead th {\n",
       "        text-align: right;\n",
       "    }\n",
       "</style>\n",
       "<table border=\"1\" class=\"dataframe\">\n",
       "  <thead>\n",
       "    <tr style=\"text-align: right;\">\n",
       "      <th></th>\n",
       "      <th>assay_id</th>\n",
       "      <th>doc_id</th>\n",
       "      <th>description</th>\n",
       "      <th>assay_type</th>\n",
       "      <th>assay_test_type</th>\n",
       "      <th>assay_category</th>\n",
       "      <th>assay_organism</th>\n",
       "      <th>assay_tax_id</th>\n",
       "      <th>assay_strain</th>\n",
       "      <th>assay_tissue</th>\n",
       "      <th>...</th>\n",
       "      <th>confidence_score</th>\n",
       "      <th>curated_by</th>\n",
       "      <th>src_id</th>\n",
       "      <th>src_assay_id</th>\n",
       "      <th>chembl_id</th>\n",
       "      <th>cell_id</th>\n",
       "      <th>bao_format</th>\n",
       "      <th>tissue_id</th>\n",
       "      <th>variant_id</th>\n",
       "      <th>aidx</th>\n",
       "    </tr>\n",
       "  </thead>\n",
       "  <tbody>\n",
       "    <tr>\n",
       "      <th>0</th>\n",
       "      <td>99651</td>\n",
       "      <td>13575</td>\n",
       "      <td>Inhibitory concentration LTB4 with [3H]LTD4 in...</td>\n",
       "      <td>B</td>\n",
       "      <td>None</td>\n",
       "      <td>None</td>\n",
       "      <td>Homo sapiens</td>\n",
       "      <td>9606.0</td>\n",
       "      <td>None</td>\n",
       "      <td>None</td>\n",
       "      <td>...</td>\n",
       "      <td>9</td>\n",
       "      <td>Expert</td>\n",
       "      <td>1</td>\n",
       "      <td>None</td>\n",
       "      <td>CHEMBL709309</td>\n",
       "      <td>None</td>\n",
       "      <td>BAO_0000357</td>\n",
       "      <td>None</td>\n",
       "      <td>None</td>\n",
       "      <td>CLD0</td>\n",
       "    </tr>\n",
       "    <tr>\n",
       "      <th>1</th>\n",
       "      <td>99652</td>\n",
       "      <td>13575</td>\n",
       "      <td>Inhibitory concentration against LTB4 with [3H...</td>\n",
       "      <td>B</td>\n",
       "      <td>None</td>\n",
       "      <td>None</td>\n",
       "      <td>Homo sapiens</td>\n",
       "      <td>9606.0</td>\n",
       "      <td>None</td>\n",
       "      <td>None</td>\n",
       "      <td>...</td>\n",
       "      <td>9</td>\n",
       "      <td>Expert</td>\n",
       "      <td>1</td>\n",
       "      <td>None</td>\n",
       "      <td>CHEMBL709310</td>\n",
       "      <td>None</td>\n",
       "      <td>BAO_0000357</td>\n",
       "      <td>None</td>\n",
       "      <td>None</td>\n",
       "      <td>CLD0</td>\n",
       "    </tr>\n",
       "    <tr>\n",
       "      <th>2</th>\n",
       "      <td>99653</td>\n",
       "      <td>14908</td>\n",
       "      <td>In vitro leukotriene B4 receptor binding poten...</td>\n",
       "      <td>B</td>\n",
       "      <td>None</td>\n",
       "      <td>None</td>\n",
       "      <td>None</td>\n",
       "      <td>NaN</td>\n",
       "      <td>None</td>\n",
       "      <td>None</td>\n",
       "      <td>...</td>\n",
       "      <td>4</td>\n",
       "      <td>Intermediate</td>\n",
       "      <td>1</td>\n",
       "      <td>None</td>\n",
       "      <td>CHEMBL709311</td>\n",
       "      <td>None</td>\n",
       "      <td>BAO_0000224</td>\n",
       "      <td>None</td>\n",
       "      <td>None</td>\n",
       "      <td>CLD0</td>\n",
       "    </tr>\n",
       "    <tr>\n",
       "      <th>3</th>\n",
       "      <td>99654</td>\n",
       "      <td>213</td>\n",
       "      <td>In vitro binding affinity using [3H]LTB4 radio...</td>\n",
       "      <td>B</td>\n",
       "      <td>None</td>\n",
       "      <td>None</td>\n",
       "      <td>None</td>\n",
       "      <td>NaN</td>\n",
       "      <td>None</td>\n",
       "      <td>None</td>\n",
       "      <td>...</td>\n",
       "      <td>8</td>\n",
       "      <td>Autocuration</td>\n",
       "      <td>1</td>\n",
       "      <td>None</td>\n",
       "      <td>CHEMBL709312</td>\n",
       "      <td>None</td>\n",
       "      <td>BAO_0000357</td>\n",
       "      <td>None</td>\n",
       "      <td>None</td>\n",
       "      <td>CLD0</td>\n",
       "    </tr>\n",
       "    <tr>\n",
       "      <th>4</th>\n",
       "      <td>99655</td>\n",
       "      <td>1594</td>\n",
       "      <td>In vitro inhibitory activity against human neu...</td>\n",
       "      <td>F</td>\n",
       "      <td>None</td>\n",
       "      <td>None</td>\n",
       "      <td>None</td>\n",
       "      <td>NaN</td>\n",
       "      <td>None</td>\n",
       "      <td>None</td>\n",
       "      <td>...</td>\n",
       "      <td>8</td>\n",
       "      <td>Autocuration</td>\n",
       "      <td>1</td>\n",
       "      <td>None</td>\n",
       "      <td>CHEMBL704421</td>\n",
       "      <td>None</td>\n",
       "      <td>BAO_0000019</td>\n",
       "      <td>None</td>\n",
       "      <td>None</td>\n",
       "      <td>CLD0</td>\n",
       "    </tr>\n",
       "    <tr>\n",
       "      <th>5</th>\n",
       "      <td>99656</td>\n",
       "      <td>12428</td>\n",
       "      <td>Inhibition of [3H]Leukotriene B4 binding to hu...</td>\n",
       "      <td>B</td>\n",
       "      <td>None</td>\n",
       "      <td>None</td>\n",
       "      <td>None</td>\n",
       "      <td>NaN</td>\n",
       "      <td>None</td>\n",
       "      <td>None</td>\n",
       "      <td>...</td>\n",
       "      <td>8</td>\n",
       "      <td>Expert</td>\n",
       "      <td>1</td>\n",
       "      <td>None</td>\n",
       "      <td>CHEMBL704422</td>\n",
       "      <td>None</td>\n",
       "      <td>BAO_0000357</td>\n",
       "      <td>None</td>\n",
       "      <td>None</td>\n",
       "      <td>CLD0</td>\n",
       "    </tr>\n",
       "    <tr>\n",
       "      <th>6</th>\n",
       "      <td>99657</td>\n",
       "      <td>15278</td>\n",
       "      <td>Inhibition of binding of [3H]LTB4 (1 nM) to in...</td>\n",
       "      <td>B</td>\n",
       "      <td>None</td>\n",
       "      <td>None</td>\n",
       "      <td>None</td>\n",
       "      <td>NaN</td>\n",
       "      <td>None</td>\n",
       "      <td>None</td>\n",
       "      <td>...</td>\n",
       "      <td>4</td>\n",
       "      <td>Autocuration</td>\n",
       "      <td>1</td>\n",
       "      <td>None</td>\n",
       "      <td>CHEMBL704423</td>\n",
       "      <td>None</td>\n",
       "      <td>BAO_0000019</td>\n",
       "      <td>None</td>\n",
       "      <td>None</td>\n",
       "      <td>CLD0</td>\n",
       "    </tr>\n",
       "    <tr>\n",
       "      <th>7</th>\n",
       "      <td>99658</td>\n",
       "      <td>11846</td>\n",
       "      <td>Inhibition of binding of [3H]LTB4 to receptor ...</td>\n",
       "      <td>B</td>\n",
       "      <td>None</td>\n",
       "      <td>None</td>\n",
       "      <td>None</td>\n",
       "      <td>NaN</td>\n",
       "      <td>None</td>\n",
       "      <td>None</td>\n",
       "      <td>...</td>\n",
       "      <td>8</td>\n",
       "      <td>Autocuration</td>\n",
       "      <td>1</td>\n",
       "      <td>None</td>\n",
       "      <td>CHEMBL704424</td>\n",
       "      <td>None</td>\n",
       "      <td>BAO_0000357</td>\n",
       "      <td>None</td>\n",
       "      <td>None</td>\n",
       "      <td>CLD0</td>\n",
       "    </tr>\n",
       "    <tr>\n",
       "      <th>8</th>\n",
       "      <td>99659</td>\n",
       "      <td>11846</td>\n",
       "      <td>Inhibition of specific binding of LTB4 ( 0.1 n...</td>\n",
       "      <td>B</td>\n",
       "      <td>None</td>\n",
       "      <td>None</td>\n",
       "      <td>None</td>\n",
       "      <td>NaN</td>\n",
       "      <td>None</td>\n",
       "      <td>None</td>\n",
       "      <td>...</td>\n",
       "      <td>8</td>\n",
       "      <td>Autocuration</td>\n",
       "      <td>1</td>\n",
       "      <td>None</td>\n",
       "      <td>CHEMBL704425</td>\n",
       "      <td>None</td>\n",
       "      <td>BAO_0000357</td>\n",
       "      <td>None</td>\n",
       "      <td>None</td>\n",
       "      <td>CLD0</td>\n",
       "    </tr>\n",
       "    <tr>\n",
       "      <th>9</th>\n",
       "      <td>99660</td>\n",
       "      <td>10334</td>\n",
       "      <td>Inhibition of specific binding of [3H]LTB4 to ...</td>\n",
       "      <td>B</td>\n",
       "      <td>None</td>\n",
       "      <td>None</td>\n",
       "      <td>None</td>\n",
       "      <td>NaN</td>\n",
       "      <td>None</td>\n",
       "      <td>None</td>\n",
       "      <td>...</td>\n",
       "      <td>8</td>\n",
       "      <td>Autocuration</td>\n",
       "      <td>1</td>\n",
       "      <td>None</td>\n",
       "      <td>CHEMBL704426</td>\n",
       "      <td>None</td>\n",
       "      <td>BAO_0000357</td>\n",
       "      <td>None</td>\n",
       "      <td>None</td>\n",
       "      <td>CLD0</td>\n",
       "    </tr>\n",
       "  </tbody>\n",
       "</table>\n",
       "<p>10 rows × 24 columns</p>\n",
       "</div>"
      ],
      "text/plain": [
       "   assay_id  doc_id                                        description  \\\n",
       "0     99651   13575  Inhibitory concentration LTB4 with [3H]LTD4 in...   \n",
       "1     99652   13575  Inhibitory concentration against LTB4 with [3H...   \n",
       "2     99653   14908  In vitro leukotriene B4 receptor binding poten...   \n",
       "3     99654     213  In vitro binding affinity using [3H]LTB4 radio...   \n",
       "4     99655    1594  In vitro inhibitory activity against human neu...   \n",
       "5     99656   12428  Inhibition of [3H]Leukotriene B4 binding to hu...   \n",
       "6     99657   15278  Inhibition of binding of [3H]LTB4 (1 nM) to in...   \n",
       "7     99658   11846  Inhibition of binding of [3H]LTB4 to receptor ...   \n",
       "8     99659   11846  Inhibition of specific binding of LTB4 ( 0.1 n...   \n",
       "9     99660   10334  Inhibition of specific binding of [3H]LTB4 to ...   \n",
       "\n",
       "  assay_type assay_test_type assay_category assay_organism  assay_tax_id  \\\n",
       "0          B            None           None   Homo sapiens        9606.0   \n",
       "1          B            None           None   Homo sapiens        9606.0   \n",
       "2          B            None           None           None           NaN   \n",
       "3          B            None           None           None           NaN   \n",
       "4          F            None           None           None           NaN   \n",
       "5          B            None           None           None           NaN   \n",
       "6          B            None           None           None           NaN   \n",
       "7          B            None           None           None           NaN   \n",
       "8          B            None           None           None           NaN   \n",
       "9          B            None           None           None           NaN   \n",
       "\n",
       "  assay_strain assay_tissue  ... confidence_score    curated_by  src_id  \\\n",
       "0         None         None  ...                9        Expert       1   \n",
       "1         None         None  ...                9        Expert       1   \n",
       "2         None         None  ...                4  Intermediate       1   \n",
       "3         None         None  ...                8  Autocuration       1   \n",
       "4         None         None  ...                8  Autocuration       1   \n",
       "5         None         None  ...                8        Expert       1   \n",
       "6         None         None  ...                4  Autocuration       1   \n",
       "7         None         None  ...                8  Autocuration       1   \n",
       "8         None         None  ...                8  Autocuration       1   \n",
       "9         None         None  ...                8  Autocuration       1   \n",
       "\n",
       "  src_assay_id     chembl_id cell_id   bao_format tissue_id variant_id  aidx  \n",
       "0         None  CHEMBL709309    None  BAO_0000357      None       None  CLD0  \n",
       "1         None  CHEMBL709310    None  BAO_0000357      None       None  CLD0  \n",
       "2         None  CHEMBL709311    None  BAO_0000224      None       None  CLD0  \n",
       "3         None  CHEMBL709312    None  BAO_0000357      None       None  CLD0  \n",
       "4         None  CHEMBL704421    None  BAO_0000019      None       None  CLD0  \n",
       "5         None  CHEMBL704422    None  BAO_0000357      None       None  CLD0  \n",
       "6         None  CHEMBL704423    None  BAO_0000019      None       None  CLD0  \n",
       "7         None  CHEMBL704424    None  BAO_0000357      None       None  CLD0  \n",
       "8         None  CHEMBL704425    None  BAO_0000357      None       None  CLD0  \n",
       "9         None  CHEMBL704426    None  BAO_0000357      None       None  CLD0  \n",
       "\n",
       "[10 rows x 24 columns]"
      ]
     },
     "execution_count": 10,
     "metadata": {},
     "output_type": "execute_result"
    }
   ],
   "source": [
    "assays"
   ]
  },
  {
   "cell_type": "code",
   "execution_count": null,
   "id": "8a8fc722",
   "metadata": {},
   "outputs": [],
   "source": []
  },
  {
   "cell_type": "code",
   "execution_count": null,
   "id": "4b43c607",
   "metadata": {},
   "outputs": [],
   "source": []
  },
  {
   "cell_type": "code",
   "execution_count": null,
   "id": "0492ecfd",
   "metadata": {},
   "outputs": [],
   "source": []
  },
  {
   "cell_type": "code",
   "execution_count": null,
   "id": "ab86c065",
   "metadata": {},
   "outputs": [],
   "source": []
  },
  {
   "cell_type": "code",
   "execution_count": null,
   "id": "a3f70545",
   "metadata": {},
   "outputs": [],
   "source": []
  },
  {
   "cell_type": "code",
   "execution_count": null,
   "id": "0a0a0d9b",
   "metadata": {},
   "outputs": [],
   "source": []
  },
  {
   "cell_type": "code",
   "execution_count": null,
   "id": "1a73c3db",
   "metadata": {},
   "outputs": [],
   "source": []
  },
  {
   "cell_type": "code",
   "execution_count": null,
   "id": "f1691988",
   "metadata": {},
   "outputs": [],
   "source": []
  },
  {
   "cell_type": "code",
   "execution_count": null,
   "id": "4051ce51",
   "metadata": {},
   "outputs": [],
   "source": []
  },
  {
   "cell_type": "code",
   "execution_count": null,
   "id": "bb483725",
   "metadata": {},
   "outputs": [],
   "source": []
  }
 ],
 "metadata": {
  "kernelspec": {
   "display_name": "Python 3 (ipykernel)",
   "language": "python",
   "name": "python3"
  },
  "language_info": {
   "codemirror_mode": {
    "name": "ipython",
    "version": 3
   },
   "file_extension": ".py",
   "mimetype": "text/x-python",
   "name": "python",
   "nbconvert_exporter": "python",
   "pygments_lexer": "ipython3",
   "version": "3.9.12"
  }
 },
 "nbformat": 4,
 "nbformat_minor": 5
}
